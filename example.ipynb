{
  "cells": [
    {
      "cell_type": "markdown",
      "metadata": {
        "colab_type": "text",
        "id": "view-in-github"
      },
      "source": [
        "<a href=\"https://colab.research.google.com/github/vitroid/GenIce-core/blob/main/example.ipynb\" target=\"_parent\"><img src=\"https://colab.research.google.com/assets/colab-badge.svg\" alt=\"Open In Colab\"/></a>"
      ]
    },
    {
      "cell_type": "markdown",
      "metadata": {
        "id": "1seOAdKi9r1h"
      },
      "source": [
        "## for Google Colaboratory"
      ]
    },
    {
      "cell_type": "code",
      "execution_count": null,
      "metadata": {
        "id": "oe2Lyk1o9rBf"
      },
      "outputs": [],
      "source": [
        "%pip install git+https://github.com/vitroid/GenIce-core.git pairlist"
      ]
    },
    {
      "cell_type": "markdown",
      "metadata": {
        "id": "RecKmyFH9khy"
      },
      "source": [
        "## 1. Make an arbitrary graph directed."
      ]
    },
    {
      "cell_type": "code",
      "execution_count": 5,
      "metadata": {
        "id": "6d-3otwO9kh0"
      },
      "outputs": [
        {
          "name": "stdout",
          "output_type": "stream",
          "text": [
            "<class 'genice_core.networky.DiGraph'>\n",
            "<class 'networkx.classes.graph.Graph'>\n",
            "<class 'NoneType'>\n",
            "<class 'NoneType'>\n",
            "<class 'NoneType'>\n",
            "<class 'NoneType'>\n",
            "<class 'NoneType'>\n",
            "<class 'NoneType'>\n",
            "<class 'NoneType'>\n",
            "<class 'NoneType'>\n",
            "<class 'NoneType'>\n",
            "<class 'NoneType'>\n",
            "<class 'NoneType'>\n"
          ]
        },
        {
          "ename": "AttributeError",
          "evalue": "'DiGraph' object has no attribute 'nx'",
          "output_type": "error",
          "traceback": [
            "\u001b[0;31m---------------------------------------------------------------------------\u001b[0m",
            "\u001b[0;31mAttributeError\u001b[0m                            Traceback (most recent call last)",
            "\u001b[1;32m/Users/matto/Unison/github/GenIce-core/example.ipynb Cell 5\u001b[0m line \u001b[0;36m1\n\u001b[1;32m      <a href='vscode-notebook-cell:/Users/matto/Unison/github/GenIce-core/example.ipynb#X14sZmlsZQ%3D%3D?line=7'>8</a>\u001b[0m \u001b[39m# set orientations of the hydrogen bonds.\u001b[39;00m\n\u001b[1;32m      <a href='vscode-notebook-cell:/Users/matto/Unison/github/GenIce-core/example.ipynb#X14sZmlsZQ%3D%3D?line=8'>9</a>\u001b[0m dg \u001b[39m=\u001b[39m genice_core\u001b[39m.\u001b[39mice_graph(g)\n\u001b[0;32m---> <a href='vscode-notebook-cell:/Users/matto/Unison/github/GenIce-core/example.ipynb#X14sZmlsZQ%3D%3D?line=10'>11</a>\u001b[0m dg\u001b[39m.\u001b[39;49mnx\u001b[39m.\u001b[39mDiGraph(dg\u001b[39m.\u001b[39medges())\n\u001b[1;32m     <a href='vscode-notebook-cell:/Users/matto/Unison/github/GenIce-core/example.ipynb#X14sZmlsZQ%3D%3D?line=11'>12</a>\u001b[0m nx\u001b[39m.\u001b[39mdraw_networkx(dg, pos)\n",
            "\u001b[0;31mAttributeError\u001b[0m: 'DiGraph' object has no attribute 'nx'"
          ]
        }
      ],
      "source": [
        "import networkx as nx\n",
        "import matplotlib\n",
        "import genice_core\n",
        "\n",
        "g = nx.dodecahedral_graph()  # dodecahedral 20mer\n",
        "pos = nx.spring_layout(g)\n",
        "\n",
        "# set orientations of the hydrogen bonds.\n",
        "dg = genice_core.ice_graph(g)\n",
        "\n",
        "dg = nx.DiGraph(dg.edges())\n",
        "nx.draw_networkx(dg, pos)"
      ]
    },
    {
      "cell_type": "markdown",
      "metadata": {
        "id": "8fu7gRuU9kh2"
      },
      "source": [
        "## 2. And depolarized."
      ]
    },
    {
      "cell_type": "code",
      "execution_count": null,
      "metadata": {
        "id": "n8pRD6om9kh2"
      },
      "outputs": [],
      "source": [
        "import networkx as nx\n",
        "import matplotlib\n",
        "import genice_core\n",
        "from logging import getLogger, DEBUG, basicConfig, INFO\n",
        "\n",
        "basicConfig(level=INFO)\n",
        "logger=getLogger()\n",
        "\n",
        "g = nx.dodecahedral_graph()  # dodecahedral 20mer\n",
        "pos = nx.spring_layout(g)\n",
        "\n",
        "# set orientations of the hydrogen bonds.\n",
        "# Minimize the net dipole moment.\n",
        "dg = genice_core.ice_graph(g, pos, dipoleOptimizationCycles=100)\n",
        "\n",
        "nx.draw_networkx(dg, pos)"
      ]
    },
    {
      "cell_type": "markdown",
      "metadata": {
        "id": "74Jt1R_T9kh3"
      },
      "source": [
        "## 3. Under the periodic boundary condition."
      ]
    },
    {
      "cell_type": "code",
      "execution_count": null,
      "metadata": {
        "id": "uk-lEcZy9kh4"
      },
      "outputs": [],
      "source": [
        "from logging import DEBUG, INFO, basicConfig, getLogger\n",
        "\n",
        "import networkx as nx\n",
        "import numpy as np\n",
        "\n",
        "# import py3Dmol\n",
        "import pairlist\n",
        "from genice_core import ice_graph\n",
        "\n",
        "logger = getLogger()\n",
        "basicConfig(level=INFO)\n",
        "\n",
        "# a sample structure of ice 1h.\n",
        "# The first line specifies the cell dimension, and atomic positions (absolute) follows.\n",
        "pos = np.loadtxt(\"ice1h.txt\").reshape(-1, 3)\n",
        "cell, coords = pos[0], pos[1:]\n",
        "\n",
        "# prepare the cell matrix\n",
        "cellmat = np.diag(cell)\n",
        "\n",
        "# make the fractional coordinates\n",
        "fracCoords = coords / cell\n",
        "\n",
        "# make a graph from the proximity\n",
        "g = nx.Graph([(i, j) for i, j, _ in pairlist.pairs_iter(fracCoords, 0.3, cellmat)])\n",
        "\n",
        "# set orientations of the hydrogen bonds.\n",
        "dg = ice_graph(\n",
        "    g, vertexPositions=fracCoords, isPeriodicBoundary=True, dipoleOptimizationCycles=100\n",
        ")\n",
        "dg"
      ]
    },
    {
      "cell_type": "markdown",
      "metadata": {
        "id": "1PSs_WiV_aM7"
      },
      "source": [
        "## Benchmark tests"
      ]
    },
    {
      "cell_type": "markdown",
      "metadata": {
        "id": "9a5t5n49_ch-"
      },
      "source": [
        "### Scalability"
      ]
    },
    {
      "cell_type": "code",
      "execution_count": 1,
      "metadata": {
        "id": "ruoRrq7PAT2B"
      },
      "outputs": [],
      "source": [
        "import numpy as np\n",
        "\n",
        "\n",
        "def diamond(N: int) -> np.ndarray:\n",
        "    \"\"\"Diamond lattice. == ice 1c\n",
        "\n",
        "    Args:\n",
        "        N (int): Number of unit cells per an edge of the simulation cell.\n",
        "\n",
        "    Returns:\n",
        "        np.ndarray: atomic positions in the fractional coordinate.\n",
        "    \"\"\"\n",
        "    # make an FCC\n",
        "    xyz = (\n",
        "        np.array(\n",
        "            [\n",
        "                (x, y, z)\n",
        "                for x in range(N)\n",
        "                for y in range(N)\n",
        "                for z in range(N)\n",
        "                if (x + y + z) % 2 == 0\n",
        "            ]\n",
        "        )\n",
        "        * 2\n",
        "    )\n",
        "    xyz = np.vstack([xyz, xyz + 1])\n",
        "    return xyz / (2 * N)"
      ]
    },
    {
      "cell_type": "code",
      "execution_count": null,
      "metadata": {},
      "outputs": [],
      "source": [
        "import pairlist as pl\n",
        "import networkx as nx\n",
        "import genice_core\n",
        "import time\n",
        "import matplotlib.pyplot as plt\n",
        "\n",
        "np.random.seed(999)\n",
        "\n",
        "for depol in (0, 100):\n",
        "    X = []\n",
        "    Y = []\n",
        "    for N in (4, 6, 8, 12, 16, 26, 32, 52, 64):\n",
        "        pos = diamond(N)\n",
        "        cell = np.diag([N, N, N])\n",
        "        # adjacency graph\n",
        "        g = nx.Graph(\n",
        "            [\n",
        "                (i, j)\n",
        "                for i, j in pl.pairs_iter(pos, 1, cell, fractional=True, distance=False)\n",
        "            ]\n",
        "        )\n",
        "\n",
        "        now = time.time()\n",
        "        dg = genice_core.ice_graph(\n",
        "            g,\n",
        "            vertexPositions=pos,\n",
        "            dipoleOptimizationCycles=depol,\n",
        "        )\n",
        "        X.append(len(g))\n",
        "        Y.append(time.time() - now)\n",
        "\n",
        "    plt.plot(X, Y, label=f\"depol loop={depol}\")\n",
        "\n",
        "plt.xscale(\"log\")\n",
        "plt.yscale(\"log\")\n",
        "X = np.logspace(3, 5, 10)\n",
        "Y = X / 20000\n",
        "plt.plot(X, Y, \"k:\", label=\"linear\")\n",
        "plt.xlabel(\"Number of nodes\")\n",
        "plt.ylabel(\"Time / s\")\n",
        "plt.legend()"
      ]
    },
    {
      "cell_type": "markdown",
      "metadata": {
        "id": "mNr4y0JsGD7Y"
      },
      "source": [
        "### Doped ice\n",
        "\n",
        "Comparison with original GenIce 2.1 using Buch's algorithm."
      ]
    },
    {
      "cell_type": "code",
      "execution_count": null,
      "metadata": {
        "id": "_jtD5N4SGry6"
      },
      "outputs": [],
      "source": [
        "%pip install git+https://github.com/vitroid/GenIce.git#2.1.7.1"
      ]
    },
    {
      "cell_type": "code",
      "execution_count": null,
      "metadata": {
        "id": "AdTrJPJHGtsa"
      },
      "outputs": [],
      "source": [
        "! time genice2 1c -r 24 24 24 --cation 0=Li --anion 10=F --depol=optimal > doped1c.gro"
      ]
    },
    {
      "cell_type": "code",
      "execution_count": null,
      "metadata": {
        "id": "P4RUi-UEGxYl"
      },
      "outputs": [],
      "source": [
        "! pip install git+https://github.com/vitroid/GenIce.git@genice-core"
      ]
    },
    {
      "cell_type": "code",
      "execution_count": null,
      "metadata": {
        "id": "LaulJumEHfPs"
      },
      "outputs": [],
      "source": [
        "! time genice2 1c -r 24 24 24 --cation 0=Li --anion 10=F --depol=optimal > doped1c.gro"
      ]
    },
    {
      "cell_type": "code",
      "execution_count": null,
      "metadata": {
        "id": "DWjPBn5yHsOb"
      },
      "outputs": [],
      "source": [
        "! pip install py3dmol"
      ]
    },
    {
      "cell_type": "code",
      "execution_count": null,
      "metadata": {
        "id": "CNYtjcETLZ_h"
      },
      "outputs": [],
      "source": [
        "! time genice2 1c -r 4 4 4 --cation 0=Li --anion 10=F --depol=optimal > doped1c.gro"
      ]
    },
    {
      "cell_type": "code",
      "execution_count": null,
      "metadata": {
        "id": "rmt5qMlMKh1v"
      },
      "outputs": [],
      "source": [
        "# なぜか表示されない\n",
        "import py3Dmol\n",
        "\n",
        "# show\n",
        "view = py3Dmol.view()\n",
        "view.addModel(\"doped1c.gro\")\n",
        "view.setStyle({'stick':{}})\n",
        "view.addUnitCell()\n",
        "view.zoomTo()\n",
        "view.show()"
      ]
    },
    {
      "cell_type": "markdown",
      "metadata": {},
      "source": [
        "### Normal ice\n",
        "\n",
        "Improvement from GenIce2.1"
      ]
    },
    {
      "cell_type": "code",
      "execution_count": null,
      "metadata": {
        "id": "RGzd2Ra3Lhms"
      },
      "outputs": [],
      "source": [
        "! pip install git+https://github.com/vitroid/GenIce.git#2.1.7.1\n",
        "! time genice2 1c -r 30 30 30 > doped1c.gro"
      ]
    },
    {
      "cell_type": "code",
      "execution_count": 2,
      "metadata": {
        "id": "T-zonSKPOAa7"
      },
      "outputs": [
        {
          "name": "stdout",
          "output_type": "stream",
          "text": [
            "Found existing installation: GenIce2 2.2\n",
            "Uninstalling GenIce2-2.2:\n",
            "  Successfully uninstalled GenIce2-2.2\n",
            "Collecting git+https://github.com/vitroid/GenIce.git@genice-core\n",
            "  Cloning https://github.com/vitroid/GenIce.git (to revision genice-core) to /private/var/folders/g2/t_qwkbf48xj4860059bm17mh0000gs/T/pip-req-build-hjc44h8q\n",
            "  Running command git clone --filter=blob:none --quiet https://github.com/vitroid/GenIce.git /private/var/folders/g2/t_qwkbf48xj4860059bm17mh0000gs/T/pip-req-build-hjc44h8q\n",
            "  Running command git checkout -b genice-core --track origin/genice-core\n",
            "  Switched to a new branch 'genice-core'\n",
            "  branch 'genice-core' set up to track 'origin/genice-core'.\n",
            "  Resolved https://github.com/vitroid/GenIce.git to commit e65dba2ad3da977251f1418a3867dab01c7ee483\n",
            "  Preparing metadata (setup.py) ... \u001b[?25ldone\n",
            "\u001b[?25hRequirement already satisfied: networkx>=2.0.dev20160901144005 in /Users/matto/.local/share/virtualenvs/GenIce-core-RY0sKM3p/lib/python3.11/site-packages (from GenIce2==2.2) (3.2)\n",
            "Requirement already satisfied: cycless in /Users/matto/.local/share/virtualenvs/GenIce-core-RY0sKM3p/lib/python3.11/site-packages (from GenIce2==2.2) (0.3.1)\n",
            "Requirement already satisfied: pairlist>=0.2.12.4 in /Users/matto/.local/share/virtualenvs/GenIce-core-RY0sKM3p/lib/python3.11/site-packages (from GenIce2==2.2) (0.3.0.1)\n",
            "Requirement already satisfied: yaplotlib>=0.1 in /Users/matto/.local/share/virtualenvs/GenIce-core-RY0sKM3p/lib/python3.11/site-packages (from GenIce2==2.2) (0.1.2)\n",
            "Requirement already satisfied: numpy in /Users/matto/.local/share/virtualenvs/GenIce-core-RY0sKM3p/lib/python3.11/site-packages (from GenIce2==2.2) (1.26.1)\n",
            "Requirement already satisfied: wheel in /Users/matto/.local/share/virtualenvs/GenIce-core-RY0sKM3p/lib/python3.11/site-packages (from GenIce2==2.2) (0.41.2)\n",
            "Requirement already satisfied: openpyscad in /Users/matto/.local/share/virtualenvs/GenIce-core-RY0sKM3p/lib/python3.11/site-packages (from GenIce2==2.2) (0.5.0)\n",
            "Requirement already satisfied: graphstat in /Users/matto/.local/share/virtualenvs/GenIce-core-RY0sKM3p/lib/python3.11/site-packages (from GenIce2==2.2) (0.2.1)\n",
            "Requirement already satisfied: genice-core in /Users/matto/.local/share/virtualenvs/GenIce-core-RY0sKM3p/lib/python3.11/site-packages (from GenIce2==2.2) (0.6)\n",
            "Requirement already satisfied: methodtools in /Users/matto/.local/share/virtualenvs/GenIce-core-RY0sKM3p/lib/python3.11/site-packages (from cycless->GenIce2==2.2) (0.4.7)\n",
            "Requirement already satisfied: six<2.0.0,>=1.14.0 in /Users/matto/.local/share/virtualenvs/GenIce-core-RY0sKM3p/lib/python3.11/site-packages (from openpyscad->GenIce2==2.2) (1.16.0)\n",
            "Requirement already satisfied: wirerope>=0.4.7 in /Users/matto/.local/share/virtualenvs/GenIce-core-RY0sKM3p/lib/python3.11/site-packages (from methodtools->cycless->GenIce2==2.2) (0.4.7)\n",
            "Building wheels for collected packages: GenIce2\n",
            "  Building wheel for GenIce2 (setup.py) ... \u001b[?25ldone\n",
            "\u001b[?25h  Created wheel for GenIce2: filename=GenIce2-2.2-py2.py3-none-any.whl size=806589 sha256=4f9b34778c1766bb26637ab9df8c61e66dc5acc1ca5564c4997118f25482ba39\n",
            "  Stored in directory: /private/var/folders/g2/t_qwkbf48xj4860059bm17mh0000gs/T/pip-ephem-wheel-cache-f570cb2x/wheels/e8/94/ea/bff3abe4529095b29ff3f1b5efc58463d630c2309b4eef2611\n",
            "Successfully built GenIce2\n",
            "Installing collected packages: GenIce2\n",
            "Successfully installed GenIce2-2.2\n",
            "\n",
            "\u001b[1m[\u001b[0m\u001b[34;49mnotice\u001b[0m\u001b[1;39;49m]\u001b[0m\u001b[39;49m A new release of pip is available: \u001b[0m\u001b[31;49m23.2.1\u001b[0m\u001b[39;49m -> \u001b[0m\u001b[32;49m23.3.1\u001b[0m\n",
            "\u001b[1m[\u001b[0m\u001b[34;49mnotice\u001b[0m\u001b[1;39;49m]\u001b[0m\u001b[39;49m To update, run: \u001b[0m\u001b[32;49mpip install --upgrade pip\u001b[0m\n",
            "INFO __init__: Constructor of GenIce.\n",
            "INFO   \n",
            "INFO   Command line: /Users/matto/.local/share/virtualenvs/GenIce-core-RY0sKM3p/bin/genice2 1c -r 30 30 30\n",
            "INFO Cell dimension:\n",
            "INFO   a = 4.0\n",
            "INFO   b = 4.0\n",
            "INFO   c = 4.0\n",
            "INFO   A = 90.0\n",
            "INFO   B = 90.0\n",
            "INFO   C = 90.0\n",
            "INFO Bond length (specified): 1.9\n",
            "INFO Target Density: 0.92\n",
            "INFO Original Density: 0.0037363002324809044\n",
            "INFO Bond length (scaled, nm): 0.3031365108343017\n",
            "INFO __init__: end.\n",
            "INFO __init__: 1 ms\n",
            "INFO Stage1: Replicate water molecules to make a repeated cell.\n",
            "INFO   Number of water molecules: 216000\n",
            "INFO   Number of water nodes: 8\n",
            "INFO Cell dimension:\n",
            "INFO   a = 0.6381821280722142\n",
            "INFO   b = 0.6381821280722142\n",
            "INFO   c = 0.6381821280722142\n",
            "INFO   A = 90.0\n",
            "INFO   B = 90.0\n",
            "INFO   C = 90.0\n",
            "INFO Stage1: end.\n",
            "INFO Stage1: 39 ms\n",
            "INFO Stage2: Make a random graph and replicate.\n",
            "INFO replicate_graph: 736 ms\n",
            "INFO Stage2: end.\n",
            "INFO Stage2: 736 ms\n",
            "INFO   Number of pre-oriented hydrogen bonds: 0\n",
            "INFO   Number of unoriented hydrogen bonds: 432000\n",
            "INFO   Number of hydrogen bonds: 432000 (regular num: 432000)\n",
            "INFO Stage34E: Make a directed ice graph from an undirected ice graph.\n",
            "INFO 0 [6. 6. 6.] dipole\n",
            "INFO 1 [-6.  4. -2.] dipole\n",
            "INFO 5 [ 2.66453526e-15 -4.00000000e+00 -3.74700271e-16] dipole\n",
            "INFO 63 [ 2.0000000e+00 -2.0000000e+00 -1.8179902e-15] dipole\n",
            "INFO 161 [-2.00000000e+00 -5.13478149e-16 -5.03763697e-15] dipole\n",
            "INFO 489 [ 2.00000000e+00 -4.64905892e-15 -2.04003481e-15] dipole\n",
            "INFO 806 [-4.44089210e-15  2.00000000e+00  1.80411242e-16] dipole\n",
            "INFO Stage34E: end.\n",
            "INFO Stage34E: 9595 ms\n",
            "INFO Stage5: Prepare orientations for rigid molecules.\n",
            "INFO Stage5: end.\n",
            "INFO Stage5: 229 ms\n",
            "INFO Stage6: Arrange atoms of water and replacements\n",
            "INFO Stage6: end.\n",
            "INFO Stage6: 551 ms\n",
            "INFO Stage7: Arrange guest atoms.\n",
            "INFO Stage7: end.\n",
            "INFO Stage7: 0 ms\n",
            "INFO Hook7: Output in Gromacs format.\n",
            "INFO   Total number of atoms: 648000\n",
            "WARNING   Fixed-digit format of Gromacs cannot deal with atoms more than 99999. Residue number and atom number are set appropriately.\n",
            "INFO Hook7: end.\n",
            "INFO Hook7: 1935 ms\n",
            "INFO Completed.\n",
            "INFO main: end.\n",
            "INFO main: 13222 ms\n",
            "\n",
            "real\t0m14.657s\n",
            "user\t0m15.943s\n",
            "sys\t0m0.750s\n",
            "genice2 2.2\n"
          ]
        }
      ],
      "source": [
        "! pip uninstall -y genice2\n",
        "! pip install git+https://github.com/vitroid/GenIce.git@genice-core\n",
        "! time genice2 1c -r 30 30 30 > doped1c.gro\n",
        "! genice2 --version"
      ]
    },
    {
      "cell_type": "markdown",
      "metadata": {},
      "source": [
        "## Debug and Tuning"
      ]
    },
    {
      "cell_type": "code",
      "execution_count": null,
      "metadata": {
        "id": "wMITeElB9kh5"
      },
      "outputs": [],
      "source": [
        "import pairlist as pl\n",
        "import networkx as nx\n",
        "import genice_core\n",
        "import time\n",
        "import matplotlib.pyplot as plt\n",
        "from logging import getLogger, INFO, basicConfig\n",
        "\n",
        "logger = getLogger()\n",
        "basicConfig(level=INFO)\n",
        "\n",
        "\n",
        "def main():\n",
        "    np.random.seed(999)\n",
        "\n",
        "    N = 64\n",
        "    pos = diamond(N)\n",
        "    cell = np.diag([N, N, N])\n",
        "    # adjacency graph\n",
        "    g = nx.Graph(\n",
        "        [\n",
        "            (i, j)\n",
        "            for i, j in pl.pairs_iter(pos, 1, cell, fractional=True, distance=False)\n",
        "        ]\n",
        "    )\n",
        "\n",
        "    now = time.time()\n",
        "    dg = genice_core.ice_graph(\n",
        "        g,\n",
        "        vertexPositions=pos,\n",
        "        dipoleOptimizationCycles=100,\n",
        "    )\n",
        "\n",
        "\n",
        "import cProfile\n",
        "\n",
        "cProfile.run(\"main()\", filename=\"main.prof\")"
      ]
    },
    {
      "cell_type": "code",
      "execution_count": null,
      "metadata": {},
      "outputs": [],
      "source": [
        "import pstats\n",
        "\n",
        "sts = pstats.Stats(\"main.prof\")\n",
        "sts.strip_dirs().sort_stats(-1).print_stats()"
      ]
    },
    {
      "cell_type": "code",
      "execution_count": null,
      "metadata": {},
      "outputs": [],
      "source": []
    }
  ],
  "metadata": {
    "colab": {
      "include_colab_link": true,
      "provenance": []
    },
    "kernelspec": {
      "display_name": "GenIce-core-RY0sKM3p",
      "language": "python",
      "name": "python3"
    },
    "language_info": {
      "codemirror_mode": {
        "name": "ipython",
        "version": 3
      },
      "file_extension": ".py",
      "mimetype": "text/x-python",
      "name": "python",
      "nbconvert_exporter": "python",
      "pygments_lexer": "ipython3",
      "version": "3.11.4"
    }
  },
  "nbformat": 4,
  "nbformat_minor": 0
}
