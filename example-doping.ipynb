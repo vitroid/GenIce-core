{
  "cells": [
    {
      "cell_type": "markdown",
      "metadata": {
        "id": "view-in-github",
        "colab_type": "text"
      },
      "source": [
        "<a href=\"https://colab.research.google.com/github/vitroid/GenIce-core/blob/main/example-doping.ipynb\" target=\"_parent\"><img src=\"https://colab.research.google.com/assets/colab-badge.svg\" alt=\"Open In Colab\"/></a>"
      ]
    },
    {
      "cell_type": "markdown",
      "metadata": {
        "id": "1seOAdKi9r1h"
      },
      "source": [
        "## for Google Colaboratory\n"
      ]
    },
    {
      "cell_type": "code",
      "execution_count": null,
      "metadata": {
        "id": "oe2Lyk1o9rBf"
      },
      "outputs": [],
      "source": [
        "try:\n",
        "    import google.colab\n",
        "    %pip install git+https://github.com/genice-dev/GenIce-core.git pairlist\n",
        "except:\n",
        "    pass"
      ]
    },
    {
      "cell_type": "markdown",
      "metadata": {
        "id": "RecKmyFH9khy"
      },
      "source": [
        "## 1. Prepare an undirected graph.\n"
      ]
    },
    {
      "cell_type": "code",
      "execution_count": null,
      "metadata": {
        "id": "U4qyvOu3zsGb"
      },
      "outputs": [],
      "source": [
        "import networkx as nx\n",
        "import numpy as np\n",
        "import plotly.graph_objects as go\n",
        "\n",
        "\n",
        "# a useful function to draw a graph with plotly.\n",
        "def draw_graph(g: nx.Graph, pos: dict, fixed: list = None, dopant: list = []):\n",
        "    # draw the graph with edges and labels in 3D\n",
        "    pos = np.array([pos[i] for i in sorted(g.nodes())])\n",
        "\n",
        "    # 通常の辺のリスト\n",
        "    normal_edges = [\n",
        "        (i, j)\n",
        "        for i, j in g.edges()\n",
        "        if fixed is None or [i, j] not in fixed and [j, i] not in fixed\n",
        "    ]\n",
        "    # 固定された辺のリスト\n",
        "    fixed_edges = fixed if fixed is not None else []\n",
        "\n",
        "    normal_nodes = [i for i in g.nodes() if i not in dopant]\n",
        "    dopant_nodes = [i for i in dopant]\n",
        "\n",
        "    normal_pos = pos[normal_nodes]\n",
        "    dopant_pos = pos[dopant_nodes]\n",
        "\n",
        "    fig = go.Figure(\n",
        "        data=[\n",
        "            # ノードの表示\n",
        "            go.Scatter3d(\n",
        "                x=normal_pos[:, 0],\n",
        "                y=normal_pos[:, 1],\n",
        "                z=normal_pos[:, 2],\n",
        "                mode=\"markers+text\",\n",
        "                marker=dict(size=2, color=\"blue\"),\n",
        "                text=[str(i) for i in normal_nodes],\n",
        "                textposition=\"top center\",\n",
        "            ),\n",
        "            go.Scatter3d(\n",
        "                x=dopant_pos[:, 0],\n",
        "                y=dopant_pos[:, 1],\n",
        "                z=dopant_pos[:, 2],\n",
        "                mode=\"markers+text\",\n",
        "                marker=dict(size=4, color=\"red\"),\n",
        "                text=[str(i) for i in dopant_nodes],\n",
        "                textposition=\"top center\",\n",
        "            ),\n",
        "            # 通常の辺の表示\n",
        "            *[\n",
        "                go.Scatter3d(\n",
        "                    x=[pos[i, 0], pos[j, 0]],\n",
        "                    y=[pos[i, 1], pos[j, 1]],\n",
        "                    z=[pos[i, 2], pos[j, 2]],\n",
        "                    mode=\"lines\",\n",
        "                    line=dict(color=\"gray\", width=2),\n",
        "                    hoverinfo=\"none\",\n",
        "                )\n",
        "                for i, j in normal_edges\n",
        "            ],\n",
        "            # 固定された辺（矢印）の表示\n",
        "            *[\n",
        "                go.Scatter3d(\n",
        "                    x=[pos[i, 0], pos[j, 0]],\n",
        "                    y=[pos[i, 1], pos[j, 1]],\n",
        "                    z=[pos[i, 2], pos[j, 2]],\n",
        "                    mode=\"lines\",\n",
        "                    line=dict(color=\"green\", width=3),\n",
        "                    hoverinfo=\"none\",\n",
        "                )\n",
        "                for i, j in fixed_edges\n",
        "            ],\n",
        "            # 矢印の先端（コーン）の表示\n",
        "            *[\n",
        "                go.Cone(\n",
        "                    x=[(pos[j, 0] - pos[i, 0]) * 0.8 + pos[i, 0]],\n",
        "                    y=[(pos[j, 1] - pos[i, 1]) * 0.8 + pos[i, 1]],\n",
        "                    z=[(pos[j, 2] - pos[i, 2]) * 0.8 + pos[i, 2]],\n",
        "                    u=[(pos[j, 0] - pos[i, 0]) * 0.4],\n",
        "                    v=[(pos[j, 1] - pos[i, 1]) * 0.4],\n",
        "                    w=[(pos[j, 2] - pos[i, 2]) * 0.4],\n",
        "                    colorscale=[[0, \"green\"], [1, \"green\"]],\n",
        "                    showscale=False,\n",
        "                )\n",
        "                for i, j in fixed_edges\n",
        "            ],\n",
        "        ]\n",
        "    )\n",
        "    fig.show()"
      ]
    },
    {
      "cell_type": "markdown",
      "metadata": {
        "id": "GLVWbyMgzsGb"
      },
      "source": [
        "Here we prepare a dodecahedral graph plus one extra node at the center. The nodes 0, 6, 13, and 17 are four-connected and others are 3-connected (defect or surface nodes).\n"
      ]
    },
    {
      "cell_type": "code",
      "execution_count": null,
      "metadata": {
        "id": "pktoY797zsGb"
      },
      "outputs": [],
      "source": [
        "from logging import getLogger, DEBUG\n",
        "\n",
        "logger = getLogger()\n",
        "logger.setLevel(DEBUG)\n",
        "\n",
        "g = nx.dodecahedral_graph()  # dodecahedral 20mer and an additional node at the center\n",
        "pos = nx.spring_layout(g, dim=3)\n",
        "print(pos)\n",
        "\n",
        "# add a new node at the center\n",
        "g.add_node(20)\n",
        "pos[20] = (0, 0, 0)\n",
        "g.add_edge(0, 20)\n",
        "g.add_edge(6, 20)\n",
        "g.add_edge(13, 20)\n",
        "g.add_edge(17, 20)\n",
        "\n",
        "# pos = nx.spring_layout(g, pos=pos)\n",
        "\n",
        "draw_graph(g, pos)"
      ]
    },
    {
      "cell_type": "markdown",
      "metadata": {
        "id": "WH5CajrlzsGc"
      },
      "source": [
        "Now let's assume that the node 0 is a cation and donating hydrogen bonds to its neighbors.\n"
      ]
    },
    {
      "cell_type": "code",
      "execution_count": null,
      "metadata": {
        "id": "CDWARR1czsGc"
      },
      "outputs": [],
      "source": [
        "cation = 0\n",
        "\n",
        "# prefixed directed edges.\n",
        "fixed = []\n",
        "for node in g.neighbors(cation):\n",
        "    fixed.append([cation, node])\n",
        "\n",
        "draw_graph(g, pos, dopant=[cation], fixed=fixed)"
      ]
    },
    {
      "cell_type": "markdown",
      "metadata": {
        "id": "no28n9_WzsGc"
      },
      "source": [
        "Other edges are arranged appropriately by the GenIce-core.\n"
      ]
    },
    {
      "cell_type": "code",
      "execution_count": null,
      "metadata": {
        "id": "6d-3otwO9kh0"
      },
      "outputs": [],
      "source": [
        "import genice_core\n",
        "\n",
        "# set orientations of the hydrogen bonds.\n",
        "dg = genice_core.ice_graph(g, vertexPositions=pos, fixedEdges=nx.DiGraph(fixed))\n",
        "\n",
        "draw_graph(g, pos, fixed=dg.edges(), dopant=[cation])"
      ]
    },
    {
      "cell_type": "code",
      "execution_count": null,
      "metadata": {
        "id": "KQOn0XxRzsGc"
      },
      "outputs": [],
      "source": []
    }
  ],
  "metadata": {
    "colab": {
      "provenance": [],
      "include_colab_link": true
    },
    "kernelspec": {
      "display_name": ".venv",
      "language": "python",
      "name": "python3"
    },
    "language_info": {
      "codemirror_mode": {
        "name": "ipython",
        "version": 3
      },
      "file_extension": ".py",
      "mimetype": "text/x-python",
      "name": "python",
      "nbconvert_exporter": "python",
      "pygments_lexer": "ipython3",
      "version": "3.11.13"
    }
  },
  "nbformat": 4,
  "nbformat_minor": 0
}