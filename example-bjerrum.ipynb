{
  "cells": [
    {
      "cell_type": "markdown",
      "metadata": {
        "id": "view-in-github",
        "colab_type": "text"
      },
      "source": [
        "<a href=\"https://colab.research.google.com/github/vitroid/GenIce-core/blob/main/example-bjerrum.ipynb\" target=\"_parent\"><img src=\"https://colab.research.google.com/assets/colab-badge.svg\" alt=\"Open In Colab\"/></a>"
      ]
    },
    {
      "cell_type": "markdown",
      "metadata": {
        "id": "R5xdZiHI9V5s"
      },
      "source": [
        "<a href=\"https://colab.research.google.com/github/genice-dev/GenIce-core/blob/main/example-bjerrum.ipynb\" target=\"_parent\"><img src=\"https://colab.research.google.com/assets/colab-badge.svg\" alt=\"Open In Colab\"/></a>\n"
      ]
    },
    {
      "cell_type": "markdown",
      "metadata": {
        "id": "1seOAdKi9r1h"
      },
      "source": [
        "## for Google Colaboratory\n"
      ]
    },
    {
      "cell_type": "code",
      "execution_count": null,
      "metadata": {
        "id": "oe2Lyk1o9rBf"
      },
      "outputs": [],
      "source": [
        "try:\n",
        "    import google.colab\n",
        "    %pip install git+https://github.com/genice-dev/GenIce-core.git py3dmol\n",
        "except:\n",
        "    pass"
      ]
    },
    {
      "cell_type": "code",
      "execution_count": null,
      "metadata": {
        "id": "PoJRk97-9V5v"
      },
      "outputs": [],
      "source": [
        "import networkx as nx\n",
        "import numpy as np\n",
        "import plotly.graph_objects as go\n",
        "\n",
        "\n",
        "# a useful function to draw a graph with plotly.\n",
        "def draw_graph(g: nx.Graph, pos: dict, fixed: list = None, dopant: list = []):\n",
        "    # draw the graph with edges and labels in 3D\n",
        "    pos = np.array([pos[i] for i in sorted(g.nodes())])\n",
        "\n",
        "    # 通常の辺のリスト\n",
        "    normal_edges = [\n",
        "        (i, j)\n",
        "        for i, j in g.edges()\n",
        "        if fixed is None or [i, j] not in fixed and [j, i] not in fixed\n",
        "    ]\n",
        "    # 固定された辺のリスト\n",
        "    fixed_edges = fixed if fixed is not None else []\n",
        "\n",
        "    normal_nodes = [i for i in g.nodes() if i not in dopant]\n",
        "    dopant_nodes = [i for i in dopant]\n",
        "\n",
        "    normal_pos = pos[normal_nodes]\n",
        "    dopant_pos = pos[dopant_nodes]\n",
        "\n",
        "    fig = go.Figure(\n",
        "        data=[\n",
        "            # ノードの表示\n",
        "            go.Scatter3d(\n",
        "                x=normal_pos[:, 0],\n",
        "                y=normal_pos[:, 1],\n",
        "                z=normal_pos[:, 2],\n",
        "                mode=\"markers+text\",\n",
        "                marker=dict(size=2, color=\"blue\"),\n",
        "                text=[str(i) for i in normal_nodes],\n",
        "                textposition=\"top center\",\n",
        "            ),\n",
        "            go.Scatter3d(\n",
        "                x=dopant_pos[:, 0],\n",
        "                y=dopant_pos[:, 1],\n",
        "                z=dopant_pos[:, 2],\n",
        "                mode=\"markers+text\",\n",
        "                marker=dict(size=4, color=\"red\"),\n",
        "                text=[str(i) for i in dopant_nodes],\n",
        "                textposition=\"top center\",\n",
        "            ),\n",
        "            # 通常の辺の表示\n",
        "            *[\n",
        "                go.Scatter3d(\n",
        "                    x=[pos[i, 0], pos[j, 0]],\n",
        "                    y=[pos[i, 1], pos[j, 1]],\n",
        "                    z=[pos[i, 2], pos[j, 2]],\n",
        "                    mode=\"lines\",\n",
        "                    line=dict(color=\"gray\", width=2),\n",
        "                    hoverinfo=\"none\",\n",
        "                )\n",
        "                for i, j in normal_edges\n",
        "            ],\n",
        "            # 固定された辺（矢印）の表示\n",
        "            *[\n",
        "                go.Scatter3d(\n",
        "                    x=[pos[i, 0], pos[j, 0]],\n",
        "                    y=[pos[i, 1], pos[j, 1]],\n",
        "                    z=[pos[i, 2], pos[j, 2]],\n",
        "                    mode=\"lines\",\n",
        "                    line=dict(color=\"green\", width=3),\n",
        "                    hoverinfo=\"none\",\n",
        "                )\n",
        "                for i, j in fixed_edges\n",
        "            ],\n",
        "            # 矢印の先端（コーン）の表示\n",
        "            *[\n",
        "                go.Cone(\n",
        "                    x=[(pos[j, 0] - pos[i, 0]) * 0.8 + pos[i, 0]],\n",
        "                    y=[(pos[j, 1] - pos[i, 1]) * 0.8 + pos[i, 1]],\n",
        "                    z=[(pos[j, 2] - pos[i, 2]) * 0.8 + pos[i, 2]],\n",
        "                    u=[(pos[j, 0] - pos[i, 0]) * 0.4],\n",
        "                    v=[(pos[j, 1] - pos[i, 1]) * 0.4],\n",
        "                    w=[(pos[j, 2] - pos[i, 2]) * 0.4],\n",
        "                    colorscale=[[0, \"green\"], [1, \"green\"]],\n",
        "                    showscale=False,\n",
        "                )\n",
        "                for i, j in fixed_edges\n",
        "            ],\n",
        "        ]\n",
        "    )\n",
        "    fig.show()"
      ]
    },
    {
      "cell_type": "markdown",
      "metadata": {
        "id": "RecKmyFH9khy"
      },
      "source": [
        "## 1. Prepare an undirected graph.\n"
      ]
    },
    {
      "cell_type": "code",
      "execution_count": null,
      "metadata": {
        "id": "EWPVF5lC9V5v"
      },
      "outputs": [],
      "source": [
        "from logging import getLogger, DEBUG\n",
        "\n",
        "logger = getLogger()\n",
        "logger.setLevel(DEBUG)\n",
        "\n",
        "g = nx.dodecahedral_graph()  # dodecahedral 20mer and an additional node at the center\n",
        "pos = nx.spring_layout(\n",
        "    g,\n",
        "    dim=3,\n",
        ")\n",
        "\n",
        "# add a new node at the center\n",
        "g.add_node(20)\n",
        "pos[20] = (0, 0, 0)\n",
        "g.add_edge(0, 20)\n",
        "g.add_edge(6, 20)\n",
        "g.add_edge(13, 20)\n",
        "g.add_edge(17, 20)\n",
        "pos = nx.spring_layout(g, dim=3, pos=pos)\n",
        "\n",
        "# average edge length\n",
        "L = [np.linalg.norm(pos[a] - pos[b]) for a, b in g.edges()]\n",
        "\n",
        "# scale the shape\n",
        "pos = {k: v * 2.76 / np.mean(L) for k, v in pos.items()}\n",
        "\n",
        "# pos = nx.spring_layout(g, pos=pos)\n",
        "\n",
        "draw_graph(g, pos)"
      ]
    },
    {
      "cell_type": "markdown",
      "metadata": {
        "id": "p3wYgJHL9V5w"
      },
      "source": [
        "Fix edges on the 0th water molecule to make it an Eigen-type.\n"
      ]
    },
    {
      "cell_type": "code",
      "execution_count": null,
      "metadata": {
        "id": "J6_TKM8R9V5w"
      },
      "outputs": [],
      "source": [
        "import random\n",
        "\n",
        "eigen = 0\n",
        "neighbors = list(nx.neighbors(g, eigen))\n",
        "assert len(neighbors) == 4\n",
        "\n",
        "accept = random.choice(neighbors)  # one in\n",
        "donate = set(neighbors) - set([accept])  # three outs\n",
        "\n",
        "fixed = []\n",
        "fixed.append([accept, eigen])\n",
        "for d in donate:\n",
        "    fixed.append([eigen, d])\n",
        "# 3-out, 1-in"
      ]
    },
    {
      "cell_type": "markdown",
      "metadata": {
        "id": "I22jXvpw9V5w"
      },
      "source": [
        "In the same way, fix edges on the 13th water molecule to make it hydroxy-like.\n"
      ]
    },
    {
      "cell_type": "code",
      "execution_count": null,
      "metadata": {
        "id": "tH8Bvvfp9V5w"
      },
      "outputs": [],
      "source": [
        "oh = 13\n",
        "neighbors = list(nx.neighbors(g, oh))\n",
        "assert len(neighbors) == 4\n",
        "\n",
        "donate = random.choice(neighbors)  # one out\n",
        "accept = set(neighbors) - set([donate])  # three ins\n",
        "\n",
        "fixed.append([oh, donate])\n",
        "for a in accept:\n",
        "    fixed.append([a, oh])\n",
        "# 1-out, 3-in\n",
        "\n",
        "draw_graph(g, pos, fixed=fixed)"
      ]
    },
    {
      "cell_type": "markdown",
      "metadata": {
        "id": "sppAgyph9V5w"
      },
      "source": [
        "And arrange all other edges appropreately.\n"
      ]
    },
    {
      "cell_type": "code",
      "execution_count": null,
      "metadata": {
        "id": "6d-3otwO9kh0"
      },
      "outputs": [],
      "source": [
        "import genice_core\n",
        "\n",
        "# set orientations of the hydrogen bonds.\n",
        "dg = genice_core.ice_graph(g, vertexPositions=pos, fixedEdges=nx.DiGraph(fixed))\n",
        "\n",
        "draw_graph(g, pos, fixed=dg.edges())"
      ]
    },
    {
      "cell_type": "markdown",
      "metadata": {
        "id": "vkjpK-tf9V5w"
      },
      "source": [
        "Put a virtual sites for the dangling bonds.\n"
      ]
    },
    {
      "cell_type": "code",
      "execution_count": null,
      "metadata": {
        "id": "cMS7wwWv9V5w"
      },
      "outputs": [],
      "source": [
        "def decide1(v1, v2, v3):\n",
        "    v4 = -(v1 + v2 + v3)\n",
        "    return v4 / np.linalg.norm(v4)\n",
        "\n",
        "\n",
        "def decide2(v1, v2):\n",
        "    d = v1 + v2\n",
        "    d /= np.linalg.norm(d)\n",
        "    v = np.cross(v1, v2)\n",
        "    v /= np.linalg.norm(v)\n",
        "    d *= -sqrt(1.0 / 3)\n",
        "    v *= sqrt(2.0 / 3)\n",
        "    return d + v, d - v\n",
        "\n",
        "\n",
        "def add_virtual_edge(v, g, pos, dg, edge_length=3.0):\n",
        "    new_node = len(pos)\n",
        "    pos[new_node] = pos[O] + v * edge_length\n",
        "    g.add_edge(O, new_node)\n",
        "    if dg.in_degree(O) > dg.out_degree(O):\n",
        "        dg.add_edge(O, new_node)\n",
        "    else:\n",
        "        dg.add_edge(new_node, O)\n",
        "\n",
        "\n",
        "def add_virtual_sites(O, g, pos, dg, edge_length=3.0):\n",
        "    if g.degree(O) == 3:\n",
        "        neighbors = [node for node in g[O]]\n",
        "        v1 = pos[neighbors[0]] - pos[O]\n",
        "        v2 = pos[neighbors[1]] - pos[O]\n",
        "        v3 = pos[neighbors[2]] - pos[O]\n",
        "        v1 /= np.linalg.norm(v1)\n",
        "        v2 /= np.linalg.norm(v2)\n",
        "        v3 /= np.linalg.norm(v3)\n",
        "        v4 = decide1(v1, v2, v3)\n",
        "        add_virtual_edge(v4, g, pos, dg, edge_length=edge_length)\n",
        "    elif g.degree(O) == 2:\n",
        "        neighbors = [node for node in g[O]]\n",
        "        v1 = pos[neighbors[0]] - pos[O]\n",
        "        v2 = pos[neighbors[1]] - pos[O]\n",
        "        v1 /= np.linalg.norm(v1)\n",
        "        v2 /= np.linalg.norm(v2)\n",
        "        v3, v4 = decide2(v1, v2)\n",
        "        add_virtual_edge(v3, g, pos, dg, edge_length=edge_length)\n",
        "        add_virtual_edge(v4, g, pos, dg, edge_length=edge_length)\n",
        "\n",
        "\n",
        "g_decorated = g.copy()\n",
        "dg_decorated = dg.copy()\n",
        "pos_decorated = pos.copy()\n",
        "\n",
        "for O in g:\n",
        "    # if the oxygen has edges less than 4,\n",
        "    if g.degree(O) < 4:\n",
        "        add_virtual_sites(O, g_decorated, pos_decorated, dg_decorated, edge_length=2.76)\n",
        "\n",
        "draw_graph(g_decorated, pos_decorated, fixed=dg_decorated.edges())"
      ]
    },
    {
      "cell_type": "markdown",
      "metadata": {
        "id": "9c81gaIQ9V5w"
      },
      "source": [
        "Put hydrogens along the directed edges.\n"
      ]
    },
    {
      "cell_type": "code",
      "execution_count": null,
      "metadata": {
        "id": "E9D1EupP9V5w"
      },
      "outputs": [],
      "source": [
        "oxygens = [pos[node] for node in g]\n",
        "hydrogens = [\n",
        "    pos_decorated[s] + (pos_decorated[d] - pos_decorated[s]) * 1.0 / 2.76\n",
        "    for s, d in dg_decorated.edges()\n",
        "    if s < len(pos)  # do not put hydrogen on the edge starting from a virtual node\n",
        "]"
      ]
    },
    {
      "cell_type": "markdown",
      "metadata": {
        "id": "9fhse_K39V5x"
      },
      "source": [
        "Display with py3dmol.\n"
      ]
    },
    {
      "cell_type": "code",
      "execution_count": null,
      "metadata": {
        "id": "hsNRbwcD9V5x"
      },
      "outputs": [],
      "source": [
        "import py3Dmol\n",
        "\n",
        "\n",
        "def gen_gro(oxygens, hydrogens):\n",
        "    gro = f\"genice-core\\n{len(oxygens)+len(hydrogens)}\\n\"\n",
        "    for label, (x, y, z) in enumerate(oxygens):\n",
        "        gro += f\"{1:>5}O    O{label:<4}{label+1:>4}{x/10.0:>8.3f}{y/10.0:>8.3f}{z/10.0:>8.3f}\\n\"\n",
        "    for label, (x, y, z) in enumerate(hydrogens):\n",
        "        gro += f\"{1:>5}H    H{label:<4}{label+1:>4}{x/10.0:>8.3f}{y/10.0:>8.3f}{z/10.0:>8.3f}\\n\"\n",
        "    gro += \"1 1 1\\n\"\n",
        "    return gro\n",
        "\n",
        "\n",
        "gro = gen_gro(oxygens, hydrogens)\n",
        "with open(\"dodeca.gro\", \"w\") as f:\n",
        "    f.write(gro)\n",
        "\n",
        "# show\n",
        "view = py3Dmol.view()\n",
        "view.addModel(gro, \"gro\")\n",
        "view.setStyle(\n",
        "    {\n",
        "        \"stick\": {\n",
        "            \"radius\": 0.15,\n",
        "        },\n",
        "        \"sphere\": {\"radius\": 0.35},\n",
        "    }\n",
        ")\n",
        "view.addUnitCell()\n",
        "view.zoomTo()\n",
        "view.show()\n",
        "# view.png()"
      ]
    },
    {
      "cell_type": "markdown",
      "metadata": {
        "id": "4pDGnzUo9V5x"
      },
      "source": [
        "To make the ionic defects to be Bjerrums, move a proton on H3O to OH.\n"
      ]
    },
    {
      "cell_type": "code",
      "execution_count": null,
      "metadata": {
        "id": "RdgAszoZ9V5x"
      },
      "outputs": [],
      "source": [
        "import random\n",
        "\n",
        "L = random.choice([node for node in dg.successors(eigen)])\n",
        "D = random.choice([node for node in dg.predecessors(oh)])\n",
        "\n",
        "dg_decorated.remove_edge(eigen, L)\n",
        "dg_decorated.add_edge(oh, D)"
      ]
    },
    {
      "cell_type": "code",
      "execution_count": null,
      "metadata": {
        "id": "-JtWqiOB9V5x"
      },
      "outputs": [],
      "source": [
        "hydrogens = [\n",
        "    pos_decorated[s] + (pos_decorated[d] - pos_decorated[s]) * 1.0 / 2.76\n",
        "    for s, d in dg_decorated.edges()\n",
        "    if s < len(pos)  # do not put hydrogen on the edge starting from a virtual node\n",
        "]"
      ]
    },
    {
      "cell_type": "code",
      "execution_count": null,
      "metadata": {
        "id": "3l11qmaw9V5x"
      },
      "outputs": [],
      "source": [
        "import py3Dmol\n",
        "\n",
        "gro = gen_gro(oxygens, hydrogens)\n",
        "with open(\"dodeca.gro\", \"w\") as f:\n",
        "    f.write(gro)\n",
        "# show\n",
        "view = py3Dmol.view()\n",
        "view.addModel(gro, \"gro\")\n",
        "view.setStyle(\n",
        "    {\n",
        "        \"stick\": {\n",
        "            \"radius\": 0.15,\n",
        "        },\n",
        "        \"sphere\": {\"radius\": 0.35},\n",
        "    }\n",
        ")\n",
        "view.addUnitCell()\n",
        "view.zoomTo()\n",
        "view.show()"
      ]
    }
  ],
  "metadata": {
    "colab": {
      "provenance": [],
      "include_colab_link": true
    },
    "kernelspec": {
      "display_name": ".venv",
      "language": "python",
      "name": "python3"
    },
    "language_info": {
      "codemirror_mode": {
        "name": "ipython",
        "version": 3
      },
      "file_extension": ".py",
      "mimetype": "text/x-python",
      "name": "python",
      "nbconvert_exporter": "python",
      "pygments_lexer": "ipython3",
      "version": "3.11.13"
    }
  },
  "nbformat": 4,
  "nbformat_minor": 0
}